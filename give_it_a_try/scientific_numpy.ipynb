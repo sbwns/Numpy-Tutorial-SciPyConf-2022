{
 "cells": [
  {
   "cell_type": "markdown",
   "id": "1ad4fd3a",
   "metadata": {},
   "source": [
    "# Numpy"
   ]
  },
  {
   "cell_type": "code",
   "execution_count": 2,
   "id": "98a3c7ee",
   "metadata": {},
   "outputs": [],
   "source": [
    "import numpy as np"
   ]
  },
  {
   "cell_type": "markdown",
   "id": "af37d8fc",
   "metadata": {},
   "source": [
    "## Array creation and modification"
   ]
  },
  {
   "cell_type": "markdown",
   "id": "a3781a1e",
   "metadata": {
    "lang": "en"
   },
   "source": [
    "Create a simple array, check type, size, dimension, and modify/ append values."
   ]
  },
  {
   "cell_type": "markdown",
   "id": "ef1d4c1e",
   "metadata": {},
   "source": [
    "## Array slice"
   ]
  },
  {
   "cell_type": "markdown",
   "id": "87263ebe",
   "metadata": {
    "lang": "en"
   },
   "source": [
    "With the provided array below, extract the slices as indicated."
   ]
  },
  {
   "cell_type": "markdown",
   "id": "6d1c6f95",
   "metadata": {},
   "source": [
    "<img src=\"../assets/images/numpy_slice.png\" alt=\"numpy slice\" width=\"300\"/>"
   ]
  },
  {
   "cell_type": "code",
   "execution_count": 3,
   "id": "ffedf2f8",
   "metadata": {},
   "outputs": [],
   "source": [
    "a = np.arange(25).reshape(5, 5)"
   ]
  },
  {
   "cell_type": "code",
   "execution_count": 4,
   "id": "281d23cd",
   "metadata": {
    "canopy_exercise": {
     "cell_type": "student_solution"
    },
    "tags": []
   },
   "outputs": [
    {
     "name": "stdout",
     "output_type": "stream",
     "text": [
      "[[ True  True]\n",
      " [ True  True]\n",
      " [ True  True]\n",
      " [ True  True]\n",
      " [ True  True]]\n",
      "[[ True  True]\n",
      " [ True  True]]\n",
      "[ True  True  True  True  True]\n"
     ]
    }
   ],
   "source": [
    "yellow = a[4, :]\n",
    "# yellow = a[4]\n",
    "blue = a[1:4:2, 0:3:2]\n",
    "red = a[:, 1:4:2]\n",
    "\n",
    "print(red == a[:,1::2])\n",
    "print(blue == a[1::2, :3:2])\n",
    "print(yellow == a[-1])"
   ]
  },
  {
   "cell_type": "markdown",
   "id": "6528e321",
   "metadata": {
    "canopy_exercise": {
     "cell_type": "solution_button"
    }
   },
   "source": [
    "<details>\n",
    "    <summary>Click here to see a <strong>solution</strong>.</summary>\n",
    "\n",
    "```python\n",
    "a[:,1::2] # red\n",
    "a[1::2, :3:2] # blue\n",
    "a[-1] # yellow\n",
    "```\n",
    "\n",
    "</details>"
   ]
  },
  {
   "cell_type": "markdown",
   "id": "57733f13",
   "metadata": {},
   "source": [
    "## Fancy indexing"
   ]
  },
  {
   "cell_type": "markdown",
   "id": "a81bdf55",
   "metadata": {
    "lang": "en"
   },
   "source": [
    "With the provided array blow,\n",
    "\n",
    "1. extract the elements indicated in blue.\n",
    "1. extract all the numbers divisible by 3 using a boolean mask."
   ]
  },
  {
   "cell_type": "markdown",
   "id": "9d0b5c2e",
   "metadata": {},
   "source": [
    "<img src='../assets/images/numpy_fancy_index.png' alt=\"numpy fancy index\" width=\"300\"/>"
   ]
  },
  {
   "cell_type": "code",
   "execution_count": 5,
   "id": "8c51a275",
   "metadata": {},
   "outputs": [],
   "source": [
    "a = np.arange(25).reshape(5, 5)"
   ]
  },
  {
   "cell_type": "code",
   "execution_count": 7,
   "id": "b821d13d",
   "metadata": {
    "canopy_exercise": {
     "cell_type": "student_solution"
    },
    "tags": []
   },
   "outputs": [
    {
     "name": "stdout",
     "output_type": "stream",
     "text": [
      "[ 0  3  6  9 12 15 18 21 24]\n"
     ]
    }
   ],
   "source": [
    "blue = a[[0, 1, 2, 3], [3, 1, 0, 4]]\n",
    "mask = a % 3 == 0\n",
    "masked = a[mask]\n",
    "print(masked)"
   ]
  },
  {
   "cell_type": "markdown",
   "id": "18ffaaa8",
   "metadata": {
    "canopy_exercise": {
     "cell_type": "solution_button"
    }
   },
   "source": [
    "<details>\n",
    "    <summary>Click here to see a <strong>solution</strong>.</summary>\n",
    "\n",
    "```python\n",
    "a[[0, 1, 2 ,3], [3,1,0,4]]\n",
    "mask = a % 3 == 0\n",
    "a[mask]\n",
    "```\n",
    "\n",
    "</details>"
   ]
  },
  {
   "cell_type": "markdown",
   "id": "ecdb8d6c",
   "metadata": {},
   "source": [
    "## Array Methods"
   ]
  },
  {
   "cell_type": "markdown",
   "id": "d87c7b56",
   "metadata": {
    "lang": "en"
   },
   "source": [
    "Create the array below with\n",
    "\n",
    "1. The maximum of each row\n",
    "1. The mean of each column\n",
    "1. The position of the overall minimum"
   ]
  },
  {
   "cell_type": "markdown",
   "id": "443a6b46",
   "metadata": {},
   "source": [
    "<img src='../assets/images/numpy_array_methods.png' alt=\"numpy fancy index\" width=\"300\"/>"
   ]
  },
  {
   "cell_type": "code",
   "execution_count": null,
   "id": "e885e5e5",
   "metadata": {},
   "outputs": [],
   "source": [
    "a = np.arange(-15, 15).reshape(5, 6) ** 2"
   ]
  },
  {
   "cell_type": "code",
   "execution_count": null,
   "id": "bc3f7553",
   "metadata": {
    "canopy_exercise": {
     "cell_type": "student_solution"
    },
    "tags": []
   },
   "outputs": [],
   "source": [
    "max = a.max(axis=1)\n",
    "mean = a.mean(axis=0)\n",
    "\n",
    "i_row = np.argmin(a, axis=1)\n",
    "i_col = np.argmax(a, axis=0)\n",
    "min = a[i_row, i_col]\n",
    "print(min)\n",
    "# >>> 0\n"
   ]
  },
  {
   "cell_type": "markdown",
   "id": "e7bbac2c",
   "metadata": {
    "canopy_exercise": {
     "cell_type": "solution_button"
    }
   },
   "source": [
    "<details>\n",
    "    <summary>Click here to see a <strong>solution</strong>.</summary>\n",
    "\n",
    "```python\n",
    "a.max(axis=1)\n",
    "a.mean(axis=0)\n",
    "\n",
    "np.where(a==0)\n",
    "np.unravel_index(a.argmin(), a.shape)\n",
    "i_row = a.min(axis=1).argmin()\n",
    "i_col = a.min(axis=0).argmin()\n",
    "```\n",
    "\n",
    "</details>"
   ]
  },
  {
   "cell_type": "markdown",
   "id": "5360b0f6",
   "metadata": {},
   "source": [
    "## Reshaping Array"
   ]
  },
  {
   "cell_type": "markdown",
   "id": "b73a85a3",
   "metadata": {},
   "source": [
    "Give example for reshaping and flattening."
   ]
  }
 ],
 "metadata": {
  "canopy_exercise": {
   "__metadata_version__": 1
  },
  "jupytext": {
   "formats": "md:myst"
  },
  "kernelspec": {
   "display_name": "Python 3.9.13 ('base')",
   "language": "python",
   "name": "python3"
  },
  "language_info": {
   "codemirror_mode": {
    "name": "ipython",
    "version": 3
   },
   "file_extension": ".py",
   "mimetype": "text/x-python",
   "name": "python",
   "nbconvert_exporter": "python",
   "pygments_lexer": "ipython3",
   "version": "3.9.13"
  },
  "vscode": {
   "interpreter": {
    "hash": "09b0ba705504d9bb5835091a95155215ad093085206c0c15ec723d04261f19e5"
   }
  }
 },
 "nbformat": 4,
 "nbformat_minor": 5
}
